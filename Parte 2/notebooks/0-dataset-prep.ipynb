{
 "cells": [
  {
   "cell_type": "markdown",
   "metadata": {},
   "source": [
    "# Divisão e preparação do dataset\n",
    "Esse notebook é responsável por:\n",
    "- Remover as colunas 'description' e 'url' (colunas que não são úteis para a previsão do preço)\n",
    "- Dividir o dataset em treino, validação e teste"
   ]
  },
  {
   "cell_type": "code",
   "execution_count": 1,
   "metadata": {},
   "outputs": [],
   "source": [
    "from Utils import *"
   ]
  },
  {
   "cell_type": "markdown",
   "metadata": {},
   "source": [
    "## Removendo colunas 'description', 'url' e outras que avaliamos irrelevantes"
   ]
  },
  {
   "cell_type": "markdown",
   "metadata": {},
   "source": [
    "Fizemos algumas análises nas colunas presentes no Dataset e concluimos que algumas delas podem mais ajudar \n",
    "\n",
    "#### Remover\n",
    "- Region - 402 valores distintos\n",
    "- condition - 7 valores distintos - 36% de undefined (Maior categoria) - só tem valores positivos (excellent, good, like new, fair, new, salvage, undefined)\n",
    "- model - 24756 valores distintos - 0,75% undefined (4ª maior categoria)\n",
    "- cylinders - 9 valores distintos -  31% de Undefined e other (1ª e 7ª maiores categorias) - (3,4,5,6,8,10,12, others, undefined)\n",
    "\n",
    "\n",
    "#### Manter\n",
    "- type - 14 valores distintos - 22% de undefined e other (3ª e 8ª maiores categorias) - SUV, sedan, undefined, pickup, truck, coupe, hatchback, other, wagon, van, convertible, mini-van, bus, offroad)\n",
    "- title_status - 7 valores distintos - 0,37% Undefined (5ª maior categoria) - (clean, rebuilt, salvage, lien, undefined, missing, parts only)\n",
    "- fuel - 6 valores distintos - 3,4% de undefined e other(5ª e 3ª maior categoria) - (gas, diesel, other, hybrid, undefined, eletric) "
   ]
  },
  {
   "cell_type": "code",
   "execution_count": 3,
   "metadata": {},
   "outputs": [],
   "source": [
    "df = pd.read_csv('../../Parte 1/datasets/clean_vehicles_2.csv')"
   ]
  },
  {
   "cell_type": "code",
   "execution_count": 4,
   "metadata": {},
   "outputs": [
    {
     "name": "stdout",
     "output_type": "stream",
     "text": [
      "<class 'pandas.core.frame.DataFrame'>\n",
      "RangeIndex: 316513 entries, 0 to 316512\n",
      "Data columns (total 19 columns):\n",
      " #   Column        Non-Null Count   Dtype  \n",
      "---  ------        --------------   -----  \n",
      " 0   url           316513 non-null  object \n",
      " 1   region        316513 non-null  object \n",
      " 2   price         316513 non-null  int64  \n",
      " 3   year          316513 non-null  int64  \n",
      " 4   manufacturer  316513 non-null  object \n",
      " 5   model         316513 non-null  object \n",
      " 6   condition     316513 non-null  object \n",
      " 7   cylinders     316513 non-null  object \n",
      " 8   fuel          316513 non-null  object \n",
      " 9   odometer      316513 non-null  int64  \n",
      " 10  title_status  316513 non-null  object \n",
      " 11  transmission  316513 non-null  object \n",
      " 12  drive         316513 non-null  object \n",
      " 13  type          316513 non-null  object \n",
      " 14  paint_color   316513 non-null  object \n",
      " 15  description   316513 non-null  object \n",
      " 16  state         316513 non-null  object \n",
      " 17  lat           316513 non-null  float64\n",
      " 18  long          316513 non-null  float64\n",
      "dtypes: float64(2), int64(3), object(14)\n",
      "memory usage: 45.9+ MB\n"
     ]
    }
   ],
   "source": [
    "df.loc[df.fuel == 'other', 'fuel'] = 'undefined'\n",
    "df.loc[df.type == 'other', 'type'] = 'undefined'\n",
    "df.info()"
   ]
  },
  {
   "cell_type": "code",
   "execution_count": 5,
   "metadata": {},
   "outputs": [
    {
     "name": "stdout",
     "output_type": "stream",
     "text": [
      "<class 'pandas.core.frame.DataFrame'>\n",
      "RangeIndex: 316513 entries, 0 to 316512\n",
      "Data columns (total 10 columns):\n",
      " #   Column        Non-Null Count   Dtype \n",
      "---  ------        --------------   ----- \n",
      " 0   price         316513 non-null  int64 \n",
      " 1   year          316513 non-null  int64 \n",
      " 2   manufacturer  316513 non-null  object\n",
      " 3   fuel          316513 non-null  object\n",
      " 4   odometer      316513 non-null  int64 \n",
      " 5   title_status  316513 non-null  object\n",
      " 6   transmission  316513 non-null  object\n",
      " 7   drive         316513 non-null  object\n",
      " 8   type          316513 non-null  object\n",
      " 9   state         316513 non-null  object\n",
      "dtypes: int64(3), object(7)\n",
      "memory usage: 24.1+ MB\n"
     ]
    }
   ],
   "source": [
    "df.drop(columns=['url', 'description','paint_color','lat','long', 'region', 'condition', 'model', 'cylinders'], inplace=True)\n",
    "df.info()"
   ]
  },
  {
   "cell_type": "markdown",
   "metadata": {},
   "source": [
    "## Adicionando categorias de preço\n",
    "\n",
    "- very low price: 0 - 3.000\n",
    "- low price: 3.000 - 6.000\n",
    "- low average price: 6.000 - 10.000\n",
    "- average price: 10.000 - 15.000\n",
    "- high average price: 15.000 - 20.000\n",
    "- high price: 20.000 - 30.000\n",
    "- very high price: 30.000 - 120.000\n",
    "\n",
    "As categorias foram definidas através de algumas pesquisas sobre o poder aquisitivo de um cidadão americano."
   ]
  },
  {
   "cell_type": "code",
   "execution_count": 7,
   "metadata": {},
   "outputs": [
    {
     "data": {
      "text/plain": [
       "average low price     66571\n",
       "average price         63155\n",
       "low price             55272\n",
       "average high price    46782\n",
       "high price            45286\n",
       "very high price       23013\n",
       "very low price        16434\n",
       "Name: pricecategory, dtype: int64"
      ]
     },
     "execution_count": 7,
     "metadata": {},
     "output_type": "execute_result"
    }
   ],
   "source": [
    "def categoryGen(x):\n",
    "    if x < 3000:\n",
    "        return \"very low price\"\n",
    "    elif x < 6000:\n",
    "        return \"low price\"\n",
    "    elif x < 10000:\n",
    "        return \"average low price\"\n",
    "    elif x < 15000:\n",
    "        return \"average price\"\n",
    "    elif x < 20000:\n",
    "        return \"average high price\"\n",
    "    elif x  < 30000:\n",
    "        return \"high price\"\n",
    "    else:\n",
    "        return \"very high price\"\n",
    "\n",
    "\n",
    "df['pricecategory'] = df['price'].apply(categoryGen)\n",
    "df['pricecategory'].value_counts()\n"
   ]
  },
  {
   "cell_type": "code",
   "execution_count": 9,
   "metadata": {},
   "outputs": [],
   "source": [
    "df.to_csv('../datasets/final_vehicles.csv')"
   ]
  },
  {
   "cell_type": "markdown",
   "metadata": {},
   "source": [
    "## Divisão do dataset em treino, validação e teste"
   ]
  },
  {
   "cell_type": "code",
   "execution_count": 11,
   "metadata": {},
   "outputs": [],
   "source": [
    "from sklearn.model_selection import train_test_split"
   ]
  },
  {
   "cell_type": "code",
   "execution_count": 13,
   "metadata": {},
   "outputs": [],
   "source": [
    "x_df = df.drop(columns=['price'])\n",
    "target = df['price']\n",
    "xTrain, xTest, yTrain, yTest = train_test_split(x_df, target, random_state=1)\n",
    "xTrain, xValidation, yTrain, yValidation = train_test_split(xTrain, yTrain, random_state=1)"
   ]
  },
  {
   "cell_type": "code",
   "execution_count": 15,
   "metadata": {},
   "outputs": [
    {
     "name": "stderr",
     "output_type": "stream",
     "text": [
      "/Users/matheus/miniconda3/envs/geo-env/lib/python3.7/site-packages/ipykernel_launcher.py:6: SettingWithCopyWarning: \n",
      "A value is trying to be set on a copy of a slice from a DataFrame.\n",
      "Try using .loc[row_indexer,col_indexer] = value instead\n",
      "\n",
      "See the caveats in the documentation: https://pandas.pydata.org/pandas-docs/stable/user_guide/indexing.html#returning-a-view-versus-a-copy\n",
      "  \n"
     ]
    }
   ],
   "source": [
    "train_df = xTrain\n",
    "train_df['price'] = yTrain\n",
    "validation_df = xValidation\n",
    "validation_df['price'] =yValidation\n",
    "test_df = xTest\n",
    "test_df['price'] = yTest"
   ]
  },
  {
   "cell_type": "markdown",
   "metadata": {},
   "source": [
    "Dividimos os datasets que serão usados para os classificadores e para os regressores em duas pastas:\n",
    "- 'classifier' para os que serão usados nos classificadores\n",
    "- 'regressor' para os que serão usados nos regressores"
   ]
  },
  {
   "cell_type": "code",
   "execution_count": 22,
   "metadata": {},
   "outputs": [],
   "source": [
    "# Definindo os datasets que serão usados para treinar, validar e testar os regressores\n",
    "train_df_regressor = train_df.drop(columns=['pricecategory'])\n",
    "validation_df_regressor = validation_df.drop(columns=['pricecategory'])\n",
    "test_df_regressor = test_df.drop(columns=['pricecategory'])\n",
    "\n",
    "# Datasets que serão usados para os classificadores\n",
    "train_df_classifier = train_df.drop(columns=['price'])\n",
    "validation_df_classifier = validation_df.drop(columns=['price'])\n",
    "test_df_classifier = test_df.drop(columns=['price'])"
   ]
  },
  {
   "cell_type": "code",
   "execution_count": 31,
   "metadata": {},
   "outputs": [
    {
     "name": "stdout",
     "output_type": "stream",
     "text": [
      "Tamanho do dataset de treino: 178038 amostras, 56.25% do dataset completo.\n",
      "Tamanho do dataset de validação: 59346 amostras, 18.75% do dataset completo.\n",
      "Tamanho do dataset de teste: 79129 amostras, 25.00% do dataset completo.\n"
     ]
    }
   ],
   "source": [
    "print(\"Tamanho do dataset de treino: %d amostras, %.2f%% do dataset completo.\" % (len(train_df), len(train_df)/len(df)*100))\n",
    "print(\"Tamanho do dataset de validação: %d amostras, %.2f%% do dataset completo.\" % (len(validation_df), len(validation_df)/len(df)*100))\n",
    "print(\"Tamanho do dataset de teste: %d amostras, %.2f%% do dataset completo.\" % (len(test_df), len(test_df)/len(df)*100))"
   ]
  },
  {
   "cell_type": "code",
   "execution_count": 32,
   "metadata": {},
   "outputs": [],
   "source": [
    "# Salvando os datasets de treino, validação e testes para os regressores e classificadores\n",
    "train_df_regressor.to_csv('../datasets/regressor/train_regressor_vehicles.csv', index=False)\n",
    "validation_df_regressor.to_csv('../datasets/regressor/validation_regressor_vehicles.csv', index=False)\n",
    "test_df_regressor.to_csv('../datasets/regressor/test_regressor_vehicles.csv', index=False)\n",
    "\n",
    "train_df_classifier.to_csv('../datasets/classifier/train_classifier_vehicles.csv', index=False)\n",
    "validation_df_classifier.to_csv('../datasets/classifier/validation_classifier_vehicles.csv', index=False)\n",
    "test_df_classifier.to_csv('../datasets/classifier/test_classifier_vehicles.csv', index=False)"
   ]
  }
 ],
 "metadata": {
  "kernelspec": {
   "display_name": "Python 3",
   "language": "python",
   "name": "python3"
  },
  "language_info": {
   "codemirror_mode": {
    "name": "ipython",
    "version": 3
   },
   "file_extension": ".py",
   "mimetype": "text/x-python",
   "name": "python",
   "nbconvert_exporter": "python",
   "pygments_lexer": "ipython3",
   "version": "3.7.9"
  }
 },
 "nbformat": 4,
 "nbformat_minor": 4
}
