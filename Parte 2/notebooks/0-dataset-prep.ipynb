{
 "cells": [
  {
   "cell_type": "markdown",
   "metadata": {},
   "source": [
    "# Divisão e preparação do dataset\n",
    "Esse notebook é responsável por:\n",
    "- Remover as colunas 'description' e 'url' (colunas que não são úteis para a previsão do preço)\n",
    "- Dividir o dataset em treino, validação e teste"
   ]
  },
  {
   "cell_type": "code",
   "execution_count": 1,
   "metadata": {},
   "outputs": [],
   "source": [
    "from Utils import *"
   ]
  },
  {
   "cell_type": "markdown",
   "metadata": {},
   "source": [
    "## Removendo colunas 'description' e 'url'"
   ]
  },
  {
   "cell_type": "code",
   "execution_count": 3,
   "metadata": {},
   "outputs": [],
   "source": [
    "df = pd.read_csv('../../Parte 1/datasets/clean_vehicles_2.csv')"
   ]
  },
  {
   "cell_type": "code",
   "execution_count": 4,
   "metadata": {},
   "outputs": [
    {
     "name": "stdout",
     "output_type": "stream",
     "text": [
      "<class 'pandas.core.frame.DataFrame'>\n",
      "RangeIndex: 316513 entries, 0 to 316512\n",
      "Data columns (total 17 columns):\n",
      " #   Column        Non-Null Count   Dtype  \n",
      "---  ------        --------------   -----  \n",
      " 0   region        316513 non-null  object \n",
      " 1   price         316513 non-null  int64  \n",
      " 2   year          316513 non-null  int64  \n",
      " 3   manufacturer  316513 non-null  object \n",
      " 4   model         316513 non-null  object \n",
      " 5   condition     316513 non-null  object \n",
      " 6   cylinders     316513 non-null  object \n",
      " 7   fuel          316513 non-null  object \n",
      " 8   odometer      316513 non-null  int64  \n",
      " 9   title_status  316513 non-null  object \n",
      " 10  transmission  316513 non-null  object \n",
      " 11  drive         316513 non-null  object \n",
      " 12  type          316513 non-null  object \n",
      " 13  paint_color   316513 non-null  object \n",
      " 14  state         316513 non-null  object \n",
      " 15  lat           316513 non-null  float64\n",
      " 16  long          316513 non-null  float64\n",
      "dtypes: float64(2), int64(3), object(12)\n",
      "memory usage: 41.1+ MB\n"
     ]
    }
   ],
   "source": [
    "df.drop(columns=['url', 'description'], inplace=True)\n",
    "df.info()"
   ]
  },
  {
   "cell_type": "code",
   "execution_count": 5,
   "metadata": {},
   "outputs": [],
   "source": [
    "df.to_csv('../datasets/final_vehicles.csv')"
   ]
  },
  {
   "cell_type": "markdown",
   "metadata": {},
   "source": [
    "## Divisão do dataset em treino, validação e teste"
   ]
  },
  {
   "cell_type": "code",
   "execution_count": 15,
   "metadata": {},
   "outputs": [],
   "source": [
    "from sklearn.model_selection import train_test_split"
   ]
  },
  {
   "cell_type": "code",
   "execution_count": 21,
   "metadata": {},
   "outputs": [],
   "source": [
    "x_df = df.drop(columns=['price'])\n",
    "target = df['price']\n",
    "xTrain, xTest, yTrain, yTest = train_test_split(x_df, target, random_state=1)\n",
    "xTrain, xValidation, yTrain, yValidation = train_test_split(xTrain, yTrain, random_state=1)"
   ]
  },
  {
   "cell_type": "code",
   "execution_count": 25,
   "metadata": {},
   "outputs": [
    {
     "name": "stdout",
     "output_type": "stream",
     "text": [
      "178038 59346 79129\n"
     ]
    }
   ],
   "source": [
    "print(len(yTrain), len(yValidation), len(yTest))"
   ]
  },
  {
   "cell_type": "code",
   "execution_count": 26,
   "metadata": {},
   "outputs": [
    {
     "name": "stderr",
     "output_type": "stream",
     "text": [
      "/Users/matheus/miniconda3/envs/geo-env/lib/python3.7/site-packages/ipykernel_launcher.py:6: SettingWithCopyWarning: \n",
      "A value is trying to be set on a copy of a slice from a DataFrame.\n",
      "Try using .loc[row_indexer,col_indexer] = value instead\n",
      "\n",
      "See the caveats in the documentation: https://pandas.pydata.org/pandas-docs/stable/user_guide/indexing.html#returning-a-view-versus-a-copy\n",
      "  \n"
     ]
    }
   ],
   "source": [
    "train_df = xTrain\n",
    "train_df['price'] = yTrain\n",
    "validation_df = xValidation\n",
    "validation_df['price'] =yValidation\n",
    "test_df = xTest\n",
    "test_df['price'] = yTest"
   ]
  },
  {
   "cell_type": "code",
   "execution_count": 27,
   "metadata": {},
   "outputs": [
    {
     "name": "stdout",
     "output_type": "stream",
     "text": [
      "Tamanho do dataset de treino: 178038 amostras, 56.25% do dataset completo.\n",
      "Tamanho do dataset de validação: 59346 amostras, 18.75% do dataset completo.\n",
      "Tamanho do dataset de teste: 79129 amostras, 25.00% do dataset completo.\n"
     ]
    }
   ],
   "source": [
    "print(\"Tamanho do dataset de treino: %d amostras, %.2f%% do dataset completo.\" % (len(train_df), len(train_df)/len(df)*100))\n",
    "print(\"Tamanho do dataset de validação: %d amostras, %.2f%% do dataset completo.\" % (len(validation_df), len(validation_df)/len(df)*100))\n",
    "print(\"Tamanho do dataset de teste: %d amostras, %.2f%% do dataset completo.\" % (len(test_df), len(test_df)/len(df)*100))"
   ]
  },
  {
   "cell_type": "code",
   "execution_count": 28,
   "metadata": {},
   "outputs": [],
   "source": [
    "train_df.to_csv('../datasets/train_vehicles.csv', index=False)\n",
    "validation_df.to_csv('../datasets/validation_vehicles.csv', index=False)\n",
    "test_df.to_csv('../datasets/test_vehicles.csv', index=False)"
   ]
  }
 ],
 "metadata": {
  "kernelspec": {
   "display_name": "Python 3",
   "language": "python",
   "name": "python3"
  },
  "language_info": {
   "codemirror_mode": {
    "name": "ipython",
    "version": 3
   },
   "file_extension": ".py",
   "mimetype": "text/x-python",
   "name": "python",
   "nbconvert_exporter": "python",
   "pygments_lexer": "ipython3",
   "version": "3.7.9"
  }
 },
 "nbformat": 4,
 "nbformat_minor": 4
}
