{
 "cells": [
  {
   "cell_type": "markdown",
   "metadata": {},
   "source": [
    "# Random Forest Regressor\n",
    "Neste notebook usamos o Random Forest Regressor para tentar prever a coluna 'price' (preço) do dataset de veículos do craiglist."
   ]
  },
  {
   "cell_type": "code",
   "execution_count": 1,
   "metadata": {},
   "outputs": [],
   "source": [
    "from Utils import *\n",
    "from sklearn.ensemble import RandomForestRegressor\n",
    "from sklearn.metrics import r2_score, mean_squared_error\n",
    "import matplotlib.pyplot as plt\n",
    "\n",
    "from matplotlib import rcParams\n",
    "rcParams['figure.figsize'] = (20, 10)\n",
    "rcParams['figure.dpi'] = 100\n",
    "rcParams['font.size'] = 8\n",
    "rcParams['font.family'] = 'sans-serif'\n",
    "rcParams['lines.linewidth'] = 2.0\n",
    "\n",
    "RANDOM_FOREST_REGRESSOR_EXPERIMENT = \"RandomForestRegressor\""
   ]
  },
  {
   "cell_type": "code",
   "execution_count": 2,
   "metadata": {},
   "outputs": [],
   "source": [
    "train_df = load_vehicles_dataset_and_set_types_2('../datasets/regressor/train_regressor_vehicles.csv')\n",
    "train_df = set_categories_as_codes(train_df)\n",
    "test_df = load_vehicles_dataset_and_set_types_2('../datasets/regressor/test_regressor_vehicles.csv')\n",
    "test_df = set_categories_as_codes(test_df)"
   ]
  },
  {
   "cell_type": "code",
   "execution_count": 8,
   "metadata": {},
   "outputs": [
    {
     "data": {
      "text/plain": [
       "([<matplotlib.axis.XTick at 0x7fcff4352c10>,\n",
       "  <matplotlib.axis.XTick at 0x7fd06b27cf10>,\n",
       "  <matplotlib.axis.XTick at 0x7fd06a7528d0>,\n",
       "  <matplotlib.axis.XTick at 0x7fd06a009ed0>,\n",
       "  <matplotlib.axis.XTick at 0x7fd06bf00cd0>,\n",
       "  <matplotlib.axis.XTick at 0x7fd06754ab10>,\n",
       "  <matplotlib.axis.XTick at 0x7fd06a412150>,\n",
       "  <matplotlib.axis.XTick at 0x7fd06a412390>,\n",
       "  <matplotlib.axis.XTick at 0x7fd06a412990>,\n",
       "  <matplotlib.axis.XTick at 0x7fd06a3fb5d0>],\n",
       " [Text(0, 0, 'year'),\n",
       "  Text(1, 0, 'manufacturer'),\n",
       "  Text(2, 0, 'fuel'),\n",
       "  Text(3, 0, 'odometer'),\n",
       "  Text(4, 0, 'title_status'),\n",
       "  Text(5, 0, 'transmission'),\n",
       "  Text(6, 0, 'drive'),\n",
       "  Text(7, 0, 'type'),\n",
       "  Text(8, 0, 'state'),\n",
       "  Text(9, 0, 'price')])"
      ]
     },
     "execution_count": 8,
     "metadata": {},
     "output_type": "execute_result"
    },
    {
     "data": {
      "image/png": "[encoded data removed]",
      "text/plain": [
       "<Figure size 2000x1000 with 1 Axes>"
      ]
     },
     "metadata": {
      "needs_background": "light"
     },
     "output_type": "display_data"
    }
   ],
   "source": [
    "regr = RandomForestRegressor()\n",
    "#regr.fit(train_df.drop(columns=['price']).values, train_df[['price']].values.reshape(train_df[['price']].shape[0],))\n",
    "regr.fit(train_df.drop(columns=['price']), train_df['price'])\n",
    "plt.bar(np.arange(1, 10), regr.feature_importances_)\n",
    "plt.xticks(np.arange(0, 10), train_df.columns)"
   ]
  },
  {
   "cell_type": "markdown",
   "metadata": {},
   "source": [
    "## Prevendo dataset de treino e de teste\n",
    "Aqui também é feito o tracking usando o MLflow"
   ]
  },
  {
   "cell_type": "code",
   "execution_count": 6,
   "metadata": {},
   "outputs": [
    {
     "name": "stdout",
     "output_type": "stream",
     "text": [
      "train_R2: 0.9764\n",
      "train_MSE: 2497723.4033\n",
      "train_MAE: 883.1920\n",
      "\n",
      "test_R2: 0.8237\n",
      "test_MSE: 18580282.4900\n",
      "test_MAE: 2367.8127\n",
      "\n"
     ]
    }
   ],
   "source": [
    "params = {'n_estimators': 100, 'max_depth': None, 'max_features': 'auto'}\n",
    "model = RandomForestRegressor(n_estimators=params['n_estimators'], max_depth=params['max_depth'], max_features=params['max_features'])\n",
    "run_regressor_and_track(train_df, 'train_regressor_vehicles.csv', test_df, 'test_regressor_vehicles.csv', model, RANDOM_FOREST_REGRESSOR_EXPERIMENT, 'price', \"RandomForestRegressor\", params)"
   ]
  },
  {
   "cell_type": "markdown",
   "metadata": {},
   "source": [
    "## Otimizando hiperparâmetros\n",
    "Vamos usar o optuna para otimizar os parâmetros:\n",
    "- n_estimators\n",
    "- max_depth\n",
    "- max_features"
   ]
  },
  {
   "cell_type": "code",
   "execution_count": 3,
   "metadata": {},
   "outputs": [],
   "source": [
    "import optuna\n",
    "import sklearn.model_selection"
   ]
  },
  {
   "cell_type": "code",
   "execution_count": 4,
   "metadata": {
    "collapsed": true,
    "jupyter": {
     "outputs_hidden": true
    }
   },
   "outputs": [
    {
     "name": "stderr",
     "output_type": "stream",
     "text": [
      "\u001b[32m[I 2020-11-17 01:49:33,023]\u001b[0m A new study created in memory with name: no-name-d3513845-ffa1-43a4-a67b-77f47dd9fbda\u001b[0m\n",
      "\u001b[32m[I 2020-11-17 01:50:41,426]\u001b[0m Trial 0 finished with value: 0.9686171166823763 and parameters: {'classifier': 'RandomForestRegressor', 'n_estimators': 350, 'max_depth': 52, 'max_features': 'auto'}. Best is trial 0 with value: 0.9686171166823763.\u001b[0m\n",
      "\u001b[32m[I 2020-11-17 01:51:21,548]\u001b[0m Trial 1 finished with value: 0.9683654239846594 and parameters: {'classifier': 'RandomForestRegressor', 'n_estimators': 200, 'max_depth': 61, 'max_features': 'auto'}. Best is trial 0 with value: 0.9686171166823763.\u001b[0m\n",
      "\u001b[32m[I 2020-11-17 01:52:50,097]\u001b[0m Trial 2 finished with value: 0.9688079643286063 and parameters: {'classifier': 'RandomForestRegressor', 'n_estimators': 460, 'max_depth': 70, 'max_features': 'auto'}. Best is trial 2 with value: 0.9688079643286063.\u001b[0m\n",
      "\u001b[32m[I 2020-11-17 01:53:40,651]\u001b[0m Trial 3 finished with value: 0.9706463588684318 and parameters: {'classifier': 'RandomForestRegressor', 'n_estimators': 520, 'max_depth': 104, 'max_features': 'sqrt'}. Best is trial 3 with value: 0.9706463588684318.\u001b[0m\n",
      "\u001b[32m[I 2020-11-17 01:54:30,321]\u001b[0m Trial 4 finished with value: 0.970447775729645 and parameters: {'classifier': 'RandomForestRegressor', 'n_estimators': 520, 'max_depth': 43, 'max_features': 'sqrt'}. Best is trial 3 with value: 0.9706463588684318.\u001b[0m\n",
      "\u001b[32m[I 2020-11-17 01:57:16,545]\u001b[0m Trial 5 finished with value: 0.9689452303601158 and parameters: {'classifier': 'RandomForestRegressor', 'n_estimators': 840, 'max_depth': 62, 'max_features': 'auto'}. Best is trial 3 with value: 0.9706463588684318.\u001b[0m\n",
      "\u001b[32m[I 2020-11-17 01:58:30,983]\u001b[0m Trial 6 finished with value: 0.9708725728508855 and parameters: {'classifier': 'RandomForestRegressor', 'n_estimators': 770, 'max_depth': 91, 'max_features': 'sqrt'}. Best is trial 6 with value: 0.9708725728508855.\u001b[0m\n",
      "\u001b[32m[I 2020-11-17 01:58:53,545]\u001b[0m Trial 7 finished with value: 0.9704622548210213 and parameters: {'classifier': 'RandomForestRegressor', 'n_estimators': 230, 'max_depth': 48, 'max_features': 'sqrt'}. Best is trial 6 with value: 0.9708725728508855.\u001b[0m\n",
      "\u001b[32m[I 2020-11-17 01:58:56,924]\u001b[0m Trial 8 finished with value: 0.7967972388326937 and parameters: {'classifier': 'RandomForestRegressor', 'n_estimators': 70, 'max_depth': 12, 'max_features': 'sqrt'}. Best is trial 6 with value: 0.9708725728508855.\u001b[0m\n",
      "\u001b[32m[I 2020-11-17 02:00:12,513]\u001b[0m Trial 9 finished with value: 0.9706163036476066 and parameters: {'classifier': 'RandomForestRegressor', 'n_estimators': 760, 'max_depth': 98, 'max_features': 'sqrt'}. Best is trial 6 with value: 0.9708725728508855.\u001b[0m\n",
      "\u001b[32m[I 2020-11-17 02:01:50,965]\u001b[0m Trial 10 finished with value: 0.9706773283184909 and parameters: {'classifier': 'RandomForestRegressor', 'n_estimators': 1000, 'max_depth': 84, 'max_features': 'sqrt'}. Best is trial 6 with value: 0.9708725728508855.\u001b[0m\n",
      "\u001b[32m[I 2020-11-17 02:03:27,505]\u001b[0m Trial 11 finished with value: 0.970768183820589 and parameters: {'classifier': 'RandomForestRegressor', 'n_estimators': 990, 'max_depth': 86, 'max_features': 'sqrt'}. Best is trial 6 with value: 0.9708725728508855.\u001b[0m\n",
      "\u001b[32m[I 2020-11-17 02:04:59,521]\u001b[0m Trial 12 finished with value: 0.9707251287442878 and parameters: {'classifier': 'RandomForestRegressor', 'n_estimators': 960, 'max_depth': 83, 'max_features': 'sqrt'}. Best is trial 6 with value: 0.9708725728508855.\u001b[0m\n",
      "\u001b[32m[I 2020-11-17 02:06:08,664]\u001b[0m Trial 13 finished with value: 0.970781587490599 and parameters: {'classifier': 'RandomForestRegressor', 'n_estimators': 720, 'max_depth': 110, 'max_features': 'sqrt'}. Best is trial 6 with value: 0.9708725728508855.\u001b[0m\n",
      "\u001b[32m[I 2020-11-17 02:07:15,129]\u001b[0m Trial 14 finished with value: 0.97085549570364 and parameters: {'classifier': 'RandomForestRegressor', 'n_estimators': 700, 'max_depth': 110, 'max_features': 'sqrt'}. Best is trial 6 with value: 0.9708725728508855.\u001b[0m\n",
      "\u001b[32m[I 2020-11-17 02:08:17,071]\u001b[0m Trial 15 finished with value: 0.97064398006321 and parameters: {'classifier': 'RandomForestRegressor', 'n_estimators': 640, 'max_depth': 110, 'max_features': 'sqrt'}. Best is trial 6 with value: 0.9708725728508855.\u001b[0m\n",
      "\u001b[32m[I 2020-11-17 02:09:35,266]\u001b[0m Trial 16 finished with value: 0.970727557507162 and parameters: {'classifier': 'RandomForestRegressor', 'n_estimators': 820, 'max_depth': 94, 'max_features': 'sqrt'}. Best is trial 6 with value: 0.9708725728508855.\u001b[0m\n",
      "\u001b[32m[I 2020-11-17 02:10:24,438]\u001b[0m Trial 17 finished with value: 0.9364126247072208 and parameters: {'classifier': 'RandomForestRegressor', 'n_estimators': 640, 'max_depth': 19, 'max_features': 'sqrt'}. Best is trial 6 with value: 0.9708725728508855.\u001b[0m\n",
      "\u001b[32m[I 2020-11-17 02:11:49,951]\u001b[0m Trial 18 finished with value: 0.9708782813097719 and parameters: {'classifier': 'RandomForestRegressor', 'n_estimators': 890, 'max_depth': 75, 'max_features': 'sqrt'}. Best is trial 18 with value: 0.9708782813097719.\u001b[0m\n",
      "\u001b[32m[I 2020-11-17 02:13:21,676]\u001b[0m Trial 19 finished with value: 0.9708040909624817 and parameters: {'classifier': 'RandomForestRegressor', 'n_estimators': 900, 'max_depth': 75, 'max_features': 'sqrt'}. Best is trial 18 with value: 0.9708782813097719.\u001b[0m\n",
      "\u001b[32m[I 2020-11-17 02:14:45,561]\u001b[0m Trial 20 finished with value: 0.9707610922672065 and parameters: {'classifier': 'RandomForestRegressor', 'n_estimators': 880, 'max_depth': 37, 'max_features': 'sqrt'}. Best is trial 18 with value: 0.9708782813097719.\u001b[0m\n",
      "\u001b[32m[I 2020-11-17 02:15:49,971]\u001b[0m Trial 21 finished with value: 0.9706450764371074 and parameters: {'classifier': 'RandomForestRegressor', 'n_estimators': 670, 'max_depth': 94, 'max_features': 'sqrt'}. Best is trial 18 with value: 0.9708782813097719.\u001b[0m\n",
      "\u001b[32m[I 2020-11-17 02:17:02,445]\u001b[0m Trial 22 finished with value: 0.970666576536024 and parameters: {'classifier': 'RandomForestRegressor', 'n_estimators': 760, 'max_depth': 71, 'max_features': 'sqrt'}. Best is trial 18 with value: 0.9708782813097719.\u001b[0m\n",
      "\u001b[32m[I 2020-11-17 02:17:56,615]\u001b[0m Trial 23 finished with value: 0.9705140400595006 and parameters: {'classifier': 'RandomForestRegressor', 'n_estimators': 570, 'max_depth': 102, 'max_features': 'sqrt'}. Best is trial 18 with value: 0.9708782813097719.\u001b[0m\n",
      "\u001b[32m[I 2020-11-17 02:19:12,585]\u001b[0m Trial 24 finished with value: 0.9707379223389392 and parameters: {'classifier': 'RandomForestRegressor', 'n_estimators': 800, 'max_depth': 89, 'max_features': 'sqrt'}. Best is trial 18 with value: 0.9708782813097719.\u001b[0m\n",
      "\u001b[32m[I 2020-11-17 02:20:40,571]\u001b[0m Trial 25 finished with value: 0.9708592634736615 and parameters: {'classifier': 'RandomForestRegressor', 'n_estimators': 910, 'max_depth': 78, 'max_features': 'sqrt'}. Best is trial 18 with value: 0.9708782813097719.\u001b[0m\n",
      "\u001b[32m[I 2020-11-17 02:22:09,750]\u001b[0m Trial 26 finished with value: 0.9708838138974912 and parameters: {'classifier': 'RandomForestRegressor', 'n_estimators': 930, 'max_depth': 78, 'max_features': 'sqrt'}. Best is trial 26 with value: 0.9708838138974912.\u001b[0m\n",
      "\u001b[32m[I 2020-11-17 02:23:46,717]\u001b[0m Trial 27 finished with value: 0.9708057446755571 and parameters: {'classifier': 'RandomForestRegressor', 'n_estimators': 1000, 'max_depth': 66, 'max_features': 'sqrt'}. Best is trial 26 with value: 0.9708838138974912.\u001b[0m\n",
      "\u001b[32m[I 2020-11-17 02:26:47,213]\u001b[0m Trial 28 finished with value: 0.9690248390827672 and parameters: {'classifier': 'RandomForestRegressor', 'n_estimators': 930, 'max_depth': 79, 'max_features': 'auto'}. Best is trial 26 with value: 0.9708838138974912.\u001b[0m\n",
      "\u001b[32m[I 2020-11-17 02:28:01,676]\u001b[0m Trial 29 finished with value: 0.9689996225484466 and parameters: {'classifier': 'RandomForestRegressor', 'n_estimators': 390, 'max_depth': 56, 'max_features': 'auto'}. Best is trial 26 with value: 0.9708838138974912.\u001b[0m\n",
      "\u001b[32m[I 2020-11-17 02:29:23,192]\u001b[0m Trial 30 finished with value: 0.9707497056986388 and parameters: {'classifier': 'RandomForestRegressor', 'n_estimators': 850, 'max_depth': 92, 'max_features': 'sqrt'}. Best is trial 26 with value: 0.9708838138974912.\u001b[0m\n",
      "\u001b[32m[I 2020-11-17 02:30:50,058]\u001b[0m Trial 31 finished with value: 0.9708364506651277 and parameters: {'classifier': 'RandomForestRegressor', 'n_estimators': 900, 'max_depth': 79, 'max_features': 'sqrt'}. Best is trial 26 with value: 0.9708838138974912.\u001b[0m\n",
      "\u001b[32m[I 2020-11-17 02:32:19,341]\u001b[0m Trial 32 finished with value: 0.9707636184321282 and parameters: {'classifier': 'RandomForestRegressor', 'n_estimators': 940, 'max_depth': 75, 'max_features': 'sqrt'}. Best is trial 26 with value: 0.9708838138974912.\u001b[0m\n",
      "\u001b[32m[I 2020-11-17 02:33:54,858]\u001b[0m Trial 33 finished with value: 0.970867557104552 and parameters: {'classifier': 'RandomForestRegressor', 'n_estimators': 1000, 'max_depth': 68, 'max_features': 'sqrt'}. Best is trial 26 with value: 0.9708838138974912.\u001b[0m\n",
      "\u001b[32m[I 2020-11-17 02:37:08,917]\u001b[0m Trial 34 finished with value: 0.9691145535513176 and parameters: {'classifier': 'RandomForestRegressor', 'n_estimators': 1000, 'max_depth': 67, 'max_features': 'auto'}. Best is trial 26 with value: 0.9708838138974912.\u001b[0m\n",
      "\u001b[32m[I 2020-11-17 02:38:22,561]\u001b[0m Trial 35 finished with value: 0.9708811973095369 and parameters: {'classifier': 'RandomForestRegressor', 'n_estimators': 780, 'max_depth': 57, 'max_features': 'sqrt'}. Best is trial 26 with value: 0.9708838138974912.\u001b[0m\n",
      "\u001b[32m[I 2020-11-17 02:39:18,740]\u001b[0m Trial 36 finished with value: 0.9708686644051684 and parameters: {'classifier': 'RandomForestRegressor', 'n_estimators': 590, 'max_depth': 55, 'max_features': 'sqrt'}. Best is trial 26 with value: 0.9708838138974912.\u001b[0m\n",
      "\u001b[32m[I 2020-11-17 02:40:33,110]\u001b[0m Trial 37 finished with value: 0.970636754738533 and parameters: {'classifier': 'RandomForestRegressor', 'n_estimators': 770, 'max_depth': 35, 'max_features': 'sqrt'}. Best is trial 26 with value: 0.9708838138974912.\u001b[0m\n",
      "\u001b[32m[I 2020-11-17 02:43:17,477]\u001b[0m Trial 38 finished with value: 0.9690234968237473 and parameters: {'classifier': 'RandomForestRegressor', 'n_estimators': 860, 'max_depth': 61, 'max_features': 'auto'}. Best is trial 26 with value: 0.9708838138974912.\u001b[0m\n",
      "\u001b[32m[I 2020-11-17 02:44:26,672]\u001b[0m Trial 39 finished with value: 0.970747211531382 and parameters: {'classifier': 'RandomForestRegressor', 'n_estimators': 720, 'max_depth': 49, 'max_features': 'sqrt'}. Best is trial 26 with value: 0.9708838138974912.\u001b[0m\n",
      "\u001b[32m[I 2020-11-17 02:45:09,684]\u001b[0m Trial 40 finished with value: 0.9706597154711858 and parameters: {'classifier': 'RandomForestRegressor', 'n_estimators': 450, 'max_depth': 44, 'max_features': 'sqrt'}. Best is trial 26 with value: 0.9708838138974912.\u001b[0m\n",
      "\u001b[32m[I 2020-11-17 02:46:03,591]\u001b[0m Trial 41 finished with value: 0.9707045877166246 and parameters: {'classifier': 'RandomForestRegressor', 'n_estimators': 570, 'max_depth': 59, 'max_features': 'sqrt'}. Best is trial 26 with value: 0.9708838138974912.\u001b[0m\n",
      "\u001b[32m[I 2020-11-17 02:47:23,989]\u001b[0m Trial 42 finished with value: 0.9708340096173543 and parameters: {'classifier': 'RandomForestRegressor', 'n_estimators': 820, 'max_depth': 71, 'max_features': 'sqrt'}. Best is trial 26 with value: 0.9708838138974912.\u001b[0m\n",
      "\u001b[32m[I 2020-11-17 02:48:17,659]\u001b[0m Trial 43 finished with value: 0.9706943577542159 and parameters: {'classifier': 'RandomForestRegressor', 'n_estimators': 570, 'max_depth': 57, 'max_features': 'sqrt'}. Best is trial 26 with value: 0.9708838138974912.\u001b[0m\n",
      "\u001b[32m[I 2020-11-17 02:49:31,355]\u001b[0m Trial 44 finished with value: 0.9708168033164902 and parameters: {'classifier': 'RandomForestRegressor', 'n_estimators': 780, 'max_depth': 49, 'max_features': 'sqrt'}. Best is trial 26 with value: 0.9708838138974912.\u001b[0m\n",
      "\u001b[32m[I 2020-11-17 02:49:57,693]\u001b[0m Trial 45 finished with value: 0.9702275236518952 and parameters: {'classifier': 'RandomForestRegressor', 'n_estimators': 280, 'max_depth': 41, 'max_features': 'sqrt'}. Best is trial 26 with value: 0.9708838138974912.\u001b[0m\n",
      "\u001b[32m[I 2020-11-17 02:50:56,508]\u001b[0m Trial 46 finished with value: 0.9706489857524673 and parameters: {'classifier': 'RandomForestRegressor', 'n_estimators': 610, 'max_depth': 63, 'max_features': 'sqrt'}. Best is trial 26 with value: 0.9708838138974912.\u001b[0m\n",
      "\u001b[32m[I 2020-11-17 02:51:02,306]\u001b[0m Trial 47 finished with value: 0.9687416080226329 and parameters: {'classifier': 'RandomForestRegressor', 'n_estimators': 60, 'max_depth': 54, 'max_features': 'sqrt'}. Best is trial 26 with value: 0.9708838138974912.\u001b[0m\n",
      "\u001b[32m[I 2020-11-17 02:52:09,665]\u001b[0m Trial 48 finished with value: 0.970629931356028 and parameters: {'classifier': 'RandomForestRegressor', 'n_estimators': 700, 'max_depth': 85, 'max_features': 'sqrt'}. Best is trial 26 with value: 0.9708838138974912.\u001b[0m\n",
      "\u001b[32m[I 2020-11-17 02:52:53,817]\u001b[0m Trial 49 finished with value: 0.9705120739045048 and parameters: {'classifier': 'RandomForestRegressor', 'n_estimators': 460, 'max_depth': 99, 'max_features': 'sqrt'}. Best is trial 26 with value: 0.9708838138974912.\u001b[0m\n",
      "\u001b[32m[I 2020-11-17 02:54:00,750]\u001b[0m Trial 50 finished with value: 0.9685104856247659 and parameters: {'classifier': 'RandomForestRegressor', 'n_estimators': 730, 'max_depth': 26, 'max_features': 'sqrt'}. Best is trial 26 with value: 0.9708838138974912.\u001b[0m\n",
      "\u001b[32m[I 2020-11-17 02:55:33,475]\u001b[0m Trial 51 finished with value: 0.9708127481814255 and parameters: {'classifier': 'RandomForestRegressor', 'n_estimators': 960, 'max_depth': 74, 'max_features': 'sqrt'}. Best is trial 26 with value: 0.9708838138974912.\u001b[0m\n",
      "\u001b[32m[I 2020-11-17 02:57:04,337]\u001b[0m Trial 52 finished with value: 0.9707656322451452 and parameters: {'classifier': 'RandomForestRegressor', 'n_estimators': 960, 'max_depth': 65, 'max_features': 'sqrt'}. Best is trial 26 with value: 0.9708838138974912.\u001b[0m\n",
      "\u001b[32m[I 2020-11-17 02:58:27,343]\u001b[0m Trial 53 finished with value: 0.9707710747223164 and parameters: {'classifier': 'RandomForestRegressor', 'n_estimators': 860, 'max_depth': 69, 'max_features': 'sqrt'}. Best is trial 26 with value: 0.9708838138974912.\u001b[0m\n",
      "\u001b[32m[I 2020-11-17 02:59:46,027]\u001b[0m Trial 54 finished with value: 0.970870181891244 and parameters: {'classifier': 'RandomForestRegressor', 'n_estimators': 810, 'max_depth': 82, 'max_features': 'sqrt'}. Best is trial 26 with value: 0.9708838138974912.\u001b[0m\n",
      "\u001b[32m[I 2020-11-17 03:00:49,643]\u001b[0m Trial 55 finished with value: 0.9707975120153298 and parameters: {'classifier': 'RandomForestRegressor', 'n_estimators': 660, 'max_depth': 90, 'max_features': 'sqrt'}. Best is trial 26 with value: 0.9708838138974912.\u001b[0m\n",
      "\u001b[32m[I 2020-11-17 03:02:09,276]\u001b[0m Trial 56 finished with value: 0.9707980890735901 and parameters: {'classifier': 'RandomForestRegressor', 'n_estimators': 820, 'max_depth': 81, 'max_features': 'sqrt'}. Best is trial 26 with value: 0.9708838138974912.\u001b[0m\n",
      "\u001b[32m[I 2020-11-17 03:03:22,149]\u001b[0m Trial 57 finished with value: 0.9707276969753448 and parameters: {'classifier': 'RandomForestRegressor', 'n_estimators': 750, 'max_depth': 85, 'max_features': 'sqrt'}. Best is trial 26 with value: 0.9708838138974912.\u001b[0m\n",
      "\u001b[32m[I 2020-11-17 03:04:45,715]\u001b[0m Trial 58 finished with value: 0.9706851463550796 and parameters: {'classifier': 'RandomForestRegressor', 'n_estimators': 880, 'max_depth': 106, 'max_features': 'sqrt'}. Best is trial 26 with value: 0.9708838138974912.\u001b[0m\n",
      "\u001b[32m[I 2020-11-17 03:06:01,695]\u001b[0m Trial 59 finished with value: 0.9707561971879054 and parameters: {'classifier': 'RandomForestRegressor', 'n_estimators': 790, 'max_depth': 88, 'max_features': 'sqrt'}. Best is trial 26 with value: 0.9708838138974912.\u001b[0m\n",
      "\u001b[32m[I 2020-11-17 03:06:30,255]\u001b[0m Trial 60 finished with value: 0.9680493482340289 and parameters: {'classifier': 'RandomForestRegressor', 'n_estimators': 150, 'max_depth': 97, 'max_features': 'auto'}. Best is trial 26 with value: 0.9708838138974912.\u001b[0m\n",
      "\u001b[32m[I 2020-11-17 03:08:00,148]\u001b[0m Trial 61 finished with value: 0.9708558626316184 and parameters: {'classifier': 'RandomForestRegressor', 'n_estimators': 930, 'max_depth': 73, 'max_features': 'sqrt'}. Best is trial 26 with value: 0.9708838138974912.\u001b[0m\n",
      "\u001b[32m[I 2020-11-17 03:09:32,934]\u001b[0m Trial 62 finished with value: 0.970793816574492 and parameters: {'classifier': 'RandomForestRegressor', 'n_estimators': 970, 'max_depth': 52, 'max_features': 'sqrt'}. Best is trial 26 with value: 0.9708838138974912.\u001b[0m\n",
      "\u001b[32m[I 2020-11-17 03:10:53,195]\u001b[0m Trial 63 finished with value: 0.9705883954343928 and parameters: {'classifier': 'RandomForestRegressor', 'n_estimators': 830, 'max_depth': 81, 'max_features': 'sqrt'}. Best is trial 26 with value: 0.9708838138974912.\u001b[0m\n",
      "\u001b[32m[I 2020-11-17 03:12:16,709]\u001b[0m Trial 64 finished with value: 0.9708291965721749 and parameters: {'classifier': 'RandomForestRegressor', 'n_estimators': 880, 'max_depth': 68, 'max_features': 'sqrt'}. Best is trial 26 with value: 0.9708838138974912.\u001b[0m\n",
      "\u001b[32m[I 2020-11-17 03:14:00,259]\u001b[0m Trial 65 finished with value: 0.9707861457737226 and parameters: {'classifier': 'RandomForestRegressor', 'n_estimators': 1000, 'max_depth': 76, 'max_features': 'sqrt'}. Best is trial 26 with value: 0.9708838138974912.\u001b[0m\n",
      "\u001b[32m[I 2020-11-17 03:15:00,032]\u001b[0m Trial 66 finished with value: 0.970644636480079 and parameters: {'classifier': 'RandomForestRegressor', 'n_estimators': 620, 'max_depth': 63, 'max_features': 'sqrt'}. Best is trial 26 with value: 0.9708838138974912.\u001b[0m\n",
      "\u001b[32m[I 2020-11-17 03:16:27,886]\u001b[0m Trial 67 finished with value: 0.9707939014907524 and parameters: {'classifier': 'RandomForestRegressor', 'n_estimators': 910, 'max_depth': 82, 'max_features': 'sqrt'}. Best is trial 26 with value: 0.9708838138974912.\u001b[0m\n",
      "\u001b[32m[I 2020-11-17 03:17:31,534]\u001b[0m Trial 68 finished with value: 0.9708029017532038 and parameters: {'classifier': 'RandomForestRegressor', 'n_estimators': 670, 'max_depth': 71, 'max_features': 'sqrt'}. Best is trial 26 with value: 0.9708838138974912.\u001b[0m\n",
      "\u001b[32m[I 2020-11-17 03:18:48,231]\u001b[0m Trial 69 finished with value: 0.970767622653582 and parameters: {'classifier': 'RandomForestRegressor', 'n_estimators': 800, 'max_depth': 58, 'max_features': 'sqrt'}. Best is trial 26 with value: 0.9708838138974912.\u001b[0m\n",
      "\u001b[32m[I 2020-11-17 03:19:38,493]\u001b[0m Trial 70 finished with value: 0.9706791068863718 and parameters: {'classifier': 'RandomForestRegressor', 'n_estimators': 530, 'max_depth': 53, 'max_features': 'sqrt'}. Best is trial 26 with value: 0.9708838138974912.\u001b[0m\n",
      "\u001b[32m[I 2020-11-17 03:21:06,144]\u001b[0m Trial 71 finished with value: 0.9707891249172138 and parameters: {'classifier': 'RandomForestRegressor', 'n_estimators': 920, 'max_depth': 75, 'max_features': 'sqrt'}. Best is trial 26 with value: 0.9708838138974912.\u001b[0m\n",
      "\u001b[32m[I 2020-11-17 03:22:30,037]\u001b[0m Trial 72 finished with value: 0.9708243668417779 and parameters: {'classifier': 'RandomForestRegressor', 'n_estimators': 880, 'max_depth': 79, 'max_features': 'sqrt'}. Best is trial 26 with value: 0.9708838138974912.\u001b[0m\n",
      "\u001b[32m[I 2020-11-17 03:23:50,003]\u001b[0m Trial 73 finished with value: 0.9707599352127969 and parameters: {'classifier': 'RandomForestRegressor', 'n_estimators': 840, 'max_depth': 87, 'max_features': 'sqrt'}. Best is trial 26 with value: 0.9708838138974912.\u001b[0m\n",
      "\u001b[32m[I 2020-11-17 03:25:22,316]\u001b[0m Trial 74 finished with value: 0.9709071883717227 and parameters: {'classifier': 'RandomForestRegressor', 'n_estimators': 980, 'max_depth': 92, 'max_features': 'sqrt'}. Best is trial 74 with value: 0.9709071883717227.\u001b[0m\n",
      "\u001b[32m[I 2020-11-17 03:26:55,723]\u001b[0m Trial 75 finished with value: 0.9707556464200662 and parameters: {'classifier': 'RandomForestRegressor', 'n_estimators': 980, 'max_depth': 93, 'max_features': 'sqrt'}. Best is trial 74 with value: 0.9709071883717227.\u001b[0m\n",
      "\u001b[32m[I 2020-11-17 03:28:25,491]\u001b[0m Trial 76 finished with value: 0.9708201214411832 and parameters: {'classifier': 'RandomForestRegressor', 'n_estimators': 950, 'max_depth': 91, 'max_features': 'sqrt'}. Best is trial 74 with value: 0.9709071883717227.\u001b[0m\n",
      "\u001b[32m[I 2020-11-17 03:30:41,027]\u001b[0m Trial 77 finished with value: 0.9690145464675196 and parameters: {'classifier': 'RandomForestRegressor', 'n_estimators': 700, 'max_depth': 65, 'max_features': 'auto'}. Best is trial 74 with value: 0.9709071883717227.\u001b[0m\n",
      "\u001b[32m[I 2020-11-17 03:32:17,788]\u001b[0m Trial 78 finished with value: 0.970767541569793 and parameters: {'classifier': 'RandomForestRegressor', 'n_estimators': 1000, 'max_depth': 95, 'max_features': 'sqrt'}. Best is trial 74 with value: 0.9709071883717227.\u001b[0m\n",
      "\u001b[32m[I 2020-11-17 03:33:39,742]\u001b[0m Trial 79 finished with value: 0.9707895138819492 and parameters: {'classifier': 'RandomForestRegressor', 'n_estimators': 860, 'max_depth': 101, 'max_features': 'sqrt'}. Best is trial 74 with value: 0.9709071883717227.\u001b[0m\n",
      "\u001b[32m[I 2020-11-17 03:34:49,255]\u001b[0m Trial 80 finished with value: 0.9706511997601788 and parameters: {'classifier': 'RandomForestRegressor', 'n_estimators': 730, 'max_depth': 83, 'max_features': 'sqrt'}. Best is trial 74 with value: 0.9709071883717227.\u001b[0m\n",
      "\u001b[32m[I 2020-11-17 03:36:16,345]\u001b[0m Trial 81 finished with value: 0.9707883719339809 and parameters: {'classifier': 'RandomForestRegressor', 'n_estimators': 910, 'max_depth': 78, 'max_features': 'sqrt'}. Best is trial 74 with value: 0.9709071883717227.\u001b[0m\n",
      "\u001b[32m[I 2020-11-17 03:37:28,133]\u001b[0m Trial 82 finished with value: 0.9706836226611772 and parameters: {'classifier': 'RandomForestRegressor', 'n_estimators': 760, 'max_depth': 78, 'max_features': 'sqrt'}. Best is trial 74 with value: 0.9709071883717227.\u001b[0m\n",
      "\u001b[32m[I 2020-11-17 03:38:53,316]\u001b[0m Trial 83 finished with value: 0.970769138806029 and parameters: {'classifier': 'RandomForestRegressor', 'n_estimators': 890, 'max_depth': 61, 'max_features': 'sqrt'}. Best is trial 74 with value: 0.9709071883717227.\u001b[0m\n",
      "\u001b[32m[I 2020-11-17 03:40:22,562]\u001b[0m Trial 84 finished with value: 0.9707770077063277 and parameters: {'classifier': 'RandomForestRegressor', 'n_estimators': 940, 'max_depth': 73, 'max_features': 'sqrt'}. Best is trial 74 with value: 0.9709071883717227.\u001b[0m\n",
      "\u001b[32m[I 2020-11-17 03:41:38,848]\u001b[0m Trial 85 finished with value: 0.970908172836421 and parameters: {'classifier': 'RandomForestRegressor', 'n_estimators': 800, 'max_depth': 88, 'max_features': 'sqrt'}. Best is trial 85 with value: 0.970908172836421.\u001b[0m\n",
      "\u001b[32m[I 2020-11-17 03:42:55,550]\u001b[0m Trial 86 finished with value: 0.9707801435786582 and parameters: {'classifier': 'RandomForestRegressor', 'n_estimators': 790, 'max_depth': 87, 'max_features': 'sqrt'}. Best is trial 85 with value: 0.970908172836421.\u001b[0m\n",
      "\u001b[32m[I 2020-11-17 03:44:14,333]\u001b[0m Trial 87 finished with value: 0.9708076603146324 and parameters: {'classifier': 'RandomForestRegressor', 'n_estimators': 810, 'max_depth': 96, 'max_features': 'sqrt'}. Best is trial 85 with value: 0.970908172836421.\u001b[0m\n",
      "\u001b[32m[I 2020-11-17 03:45:26,595]\u001b[0m Trial 88 finished with value: 0.9706804005202349 and parameters: {'classifier': 'RandomForestRegressor', 'n_estimators': 750, 'max_depth': 90, 'max_features': 'sqrt'}. Best is trial 85 with value: 0.970908172836421.\u001b[0m\n",
      "\u001b[32m[I 2020-11-17 03:46:48,317]\u001b[0m Trial 89 finished with value: 0.9707137360648299 and parameters: {'classifier': 'RandomForestRegressor', 'n_estimators': 850, 'max_depth': 84, 'max_features': 'sqrt'}. Best is trial 85 with value: 0.970908172836421.\u001b[0m\n",
      "\u001b[32m[I 2020-11-17 03:47:26,893]\u001b[0m Trial 90 finished with value: 0.9705754471446574 and parameters: {'classifier': 'RandomForestRegressor', 'n_estimators': 410, 'max_depth': 99, 'max_features': 'sqrt'}. Best is trial 85 with value: 0.970908172836421.\u001b[0m\n",
      "\u001b[32m[I 2020-11-17 03:48:59,576]\u001b[0m Trial 91 finished with value: 0.9707815144626409 and parameters: {'classifier': 'RandomForestRegressor', 'n_estimators': 970, 'max_depth': 45, 'max_features': 'sqrt'}. Best is trial 85 with value: 0.970908172836421.\u001b[0m\n",
      "\u001b[32m[I 2020-11-17 03:50:17,873]\u001b[0m Trial 92 finished with value: 0.9708163084046857 and parameters: {'classifier': 'RandomForestRegressor', 'n_estimators': 830, 'max_depth': 70, 'max_features': 'sqrt'}. Best is trial 85 with value: 0.970908172836421.\u001b[0m\n",
      "\u001b[32m[I 2020-11-17 03:51:45,316]\u001b[0m Trial 93 finished with value: 0.9707132415957614 and parameters: {'classifier': 'RandomForestRegressor', 'n_estimators': 900, 'max_depth': 55, 'max_features': 'sqrt'}. Best is trial 85 with value: 0.970908172836421.\u001b[0m\n",
      "\u001b[32m[I 2020-11-17 03:53:13,422]\u001b[0m Trial 94 finished with value: 0.9708062672128074 and parameters: {'classifier': 'RandomForestRegressor', 'n_estimators': 930, 'max_depth': 106, 'max_features': 'sqrt'}. Best is trial 85 with value: 0.970908172836421.\u001b[0m\n",
      "\u001b[32m[I 2020-11-17 03:54:28,703]\u001b[0m Trial 95 finished with value: 0.9708200599801513 and parameters: {'classifier': 'RandomForestRegressor', 'n_estimators': 780, 'max_depth': 76, 'max_features': 'sqrt'}. Best is trial 85 with value: 0.970908172836421.\u001b[0m\n",
      "\u001b[32m[I 2020-11-17 03:55:15,658]\u001b[0m Trial 96 finished with value: 0.9708936788474859 and parameters: {'classifier': 'RandomForestRegressor', 'n_estimators': 490, 'max_depth': 80, 'max_features': 'sqrt'}. Best is trial 85 with value: 0.970908172836421.\u001b[0m\n",
      "\u001b[32m[I 2020-11-17 03:56:04,681]\u001b[0m Trial 97 finished with value: 0.9708492225581123 and parameters: {'classifier': 'RandomForestRegressor', 'n_estimators': 510, 'max_depth': 51, 'max_features': 'sqrt'}. Best is trial 85 with value: 0.970908172836421.\u001b[0m\n",
      "\u001b[32m[I 2020-11-17 03:57:36,735]\u001b[0m Trial 98 finished with value: 0.9688971442475275 and parameters: {'classifier': 'RandomForestRegressor', 'n_estimators': 480, 'max_depth': 81, 'max_features': 'auto'}. Best is trial 85 with value: 0.970908172836421.\u001b[0m\n",
      "\u001b[32m[I 2020-11-17 03:58:29,328]\u001b[0m Trial 99 finished with value: 0.9706797134836971 and parameters: {'classifier': 'RandomForestRegressor', 'n_estimators': 550, 'max_depth': 67, 'max_features': 'sqrt'}. Best is trial 85 with value: 0.970908172836421.\u001b[0m\n"
     ]
    },
    {
     "name": "stdout",
     "output_type": "stream",
     "text": [
      "FrozenTrial(number=85, value=0.970908172836421, datetime_start=datetime.datetime(2020, 11, 17, 3, 40, 22, 563512), datetime_complete=datetime.datetime(2020, 11, 17, 3, 41, 38, 848037), params={'classifier': 'RandomForestRegressor', 'n_estimators': 800, 'max_depth': 88, 'max_features': 'sqrt'}, distributions={'classifier': CategoricalDistribution(choices=('RandomForestRegressor',)), 'n_estimators': IntUniformDistribution(high=1000, low=10, step=10), 'max_depth': IntUniformDistribution(high=110, low=10, step=1), 'max_features': CategoricalDistribution(choices=('auto', 'sqrt'))}, user_attrs={}, system_attrs={}, intermediate_values={}, trial_id=85, state=TrialState.COMPLETE)\n"
     ]
    }
   ],
   "source": [
    "def objective(trial):\n",
    "    validation_df = load_vehicles_dataset_and_set_types_2('../datasets/regressor/validation_regressor_vehicles.csv')\n",
    "    validation_df = set_categories_as_codes(validation_df)\n",
    "    \n",
    "    x_df = validation_df.drop(columns=['price'])\n",
    "    target = validation_df['price']\n",
    "    \n",
    "    classifier_name = trial.suggest_categorical('classifier', ['RandomForestRegressor'])\n",
    "    n_estimators = trial.suggest_int('n_estimators', 10, 1000, step=10)\n",
    "    max_depth = trial.suggest_int('max_depth', 10, 110, step=1)\n",
    "    max_features = trial.suggest_categorical('max_features', ['auto', 'sqrt'])\n",
    "    \n",
    "    regressor = RandomForestRegressor(n_estimators=n_estimators, max_depth=max_depth, max_features=max_features)\n",
    "    regressor.fit(x_df, target)\n",
    "    predict = regressor.predict(x_df)\n",
    "\n",
    "    metrics = eval_regressor_metrics(target, predict, False)\n",
    "    r2 = metrics['test_r2']\n",
    "    return r2\n",
    "\n",
    "study = optuna.create_study(direction=\"maximize\")\n",
    "study.optimize(objective, n_trials=100)\n",
    "print(study.best_trial)"
   ]
  },
  {
   "cell_type": "markdown",
   "metadata": {},
   "source": [
    "Os melhores valores dos hiperaparâmetros encontrados são:\n",
    "- n_estimators = 800\n",
    "- max_depth = 88\n",
    "- max_features = sqrt\n",
    "  \n",
    "Utilizando esses valores para o RandomForestRegressor\n"
   ]
  },
  {
   "cell_type": "code",
   "execution_count": 5,
   "metadata": {},
   "outputs": [
    {
     "name": "stdout",
     "output_type": "stream",
     "text": [
      "train_R2: 0.9783\n",
      "train_MSE: 2297081.6501\n",
      "train_MAE: 856.1436\n",
      "\n",
      "test_R2: 0.8322\n",
      "test_MSE: 17691107.8598\n",
      "test_MAE: 2312.6929\n",
      "\n"
     ]
    }
   ],
   "source": [
    "params = {'n_estimators': 800, 'max_depth': 88, 'max_features': 'sqrt'}\n",
    "model = RandomForestRegressor(n_estimators=params['n_estimators'], max_depth=params['max_depth'], max_features=params['max_features'])\n",
    "run_regressor_and_track(train_df, 'train_regressor_vehicles.csv', test_df, 'test_regressor_vehicles.csv', model, RANDOM_FOREST_REGRESSOR_EXPERIMENT, 'price', \"RandomForestRegressorWithTunning\", params)"
   ]
  },
  {
   "cell_type": "markdown",
   "metadata": {},
   "source": [
    "Houve uma melhora sutil nos resultados:\n",
    "- train_R2: 0.9764 -> 0.9783\n",
    "- test_R2: 0.8237 -> 0.8322\n",
    "\n",
    "Esses resultados podem ser comparados na UI do MLflow."
   ]
  },
  {
   "cell_type": "markdown",
   "metadata": {},
   "source": [
    "## Diagnóstico do Modelo\n",
    "Esse é o nosso modelo escolhido, ele obteve melhores resultados em relação aos demais:\n",
    "\n",
    "\n",
    "Considerando um alvo de 5% de erro, o modelo apresentou:"
   ]
  },
  {
   "cell_type": "code",
   "execution_count": 6,
   "metadata": {},
   "outputs": [
    {
     "name": "stdout",
     "output_type": "stream",
     "text": [
      "Viés: 2.83\n",
      "Variância: 14.61\n"
     ]
    }
   ],
   "source": [
    "bias, variance = eval_bia_and_variance(97.83, 83.22, 5)\n",
    "\n",
    "print(\"Viés: {:.2f}\\nVariância: {:.2f}\".format(bias, variance))"
   ]
  },
  {
   "cell_type": "markdown",
   "metadata": {},
   "source": [
    "Com isso confirmamos que o modelo está em situação de Overfitting, podemos usar as seguintes estratégias para resolver o overfitting:\n",
    "\n",
    "- Reduzir a complexidade do modelo\n",
    "- Feature Selection\n",
    "- Adicionar dados ao conjunto de treinamento"
   ]
  },
  {
   "cell_type": "code",
   "execution_count": null,
   "metadata": {},
   "outputs": [],
   "source": []
  }
 ],
 "metadata": {
  "kernelspec": {
   "display_name": "Python 3",
   "language": "python",
   "name": "python3"
  },
  "language_info": {
   "codemirror_mode": {
    "name": "ipython",
    "version": 3
   },
   "file_extension": ".py",
   "mimetype": "text/x-python",
   "name": "python",
   "nbconvert_exporter": "python",
   "pygments_lexer": "ipython3",
   "version": "3.7.9"
  }
 },
 "nbformat": 4,
 "nbformat_minor": 4
}
