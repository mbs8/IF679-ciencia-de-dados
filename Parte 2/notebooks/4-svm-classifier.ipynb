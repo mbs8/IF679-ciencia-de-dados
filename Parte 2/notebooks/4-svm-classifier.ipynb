{
 "cells": [
  {
   "cell_type": "markdown",
   "metadata": {},
   "source": [
    "# SVM Classifier\n",
    "Neste notebook usamos o classificador SVM (Support Vector Machine) para determinar de acordo com as características do anúncio do carro se a coluna 'price' (preço) está em uma das seguintes faixas de preço:\n",
    "- very low price\n",
    "- low price\n",
    "- average price\n",
    "- high price\n",
    "- very high price"
   ]
  },
  {
   "cell_type": "code",
   "execution_count": null,
   "metadata": {},
   "outputs": [],
   "source": []
  }
 ],
 "metadata": {
  "kernelspec": {
   "display_name": "Python 3",
   "language": "python",
   "name": "python3"
  },
  "language_info": {
   "codemirror_mode": {
    "name": "ipython",
    "version": 3
   },
   "file_extension": ".py",
   "mimetype": "text/x-python",
   "name": "python",
   "nbconvert_exporter": "python",
   "pygments_lexer": "ipython3",
   "version": "3.7.9"
  }
 },
 "nbformat": 4,
 "nbformat_minor": 4
}
