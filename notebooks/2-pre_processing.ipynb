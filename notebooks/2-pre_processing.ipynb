{
 "cells": [
  {
   "cell_type": "markdown",
   "metadata": {},
   "source": [
    "# Pré-processamento\n",
    "Este notebook é responsável por pré-processar os dados realizando as seguintes tarefas:\n",
    "- Definição de tipos\n",
    "- Tratamento de dados ausentes\n",
    "- Normalização e discretização\n",
    "- Limpeza de dados (univariado, bivariado e multivariado)"
   ]
  },
  {
   "cell_type": "markdown",
   "metadata": {},
   "source": [
    "## Definição de tipos"
   ]
  },
  {
   "cell_type": "code",
   "execution_count": null,
   "metadata": {},
   "outputs": [],
   "source": [
    "year_serie = df[df['year'] > 0]['year'].apply(get_decimal)\n",
    "year_serie = year_serie[year_serie > 0]\n",
    "year_serie\n",
    "df[df['year'] <= 0]\n",
    "df.year.isnull().sum()"
   ]
  }
 ],
 "metadata": {
  "kernelspec": {
   "display_name": "Python 3",
   "language": "python",
   "name": "python3"
  },
  "language_info": {
   "codemirror_mode": {
    "name": "ipython",
    "version": 3
   },
   "file_extension": ".py",
   "mimetype": "text/x-python",
   "name": "python",
   "nbconvert_exporter": "python",
   "pygments_lexer": "ipython3",
   "version": "3.7.7"
  }
 },
 "nbformat": 4,
 "nbformat_minor": 4
}
