{
 "cells": [
  {
   "cell_type": "markdown",
   "metadata": {},
   "source": [
    "# Pré-processamento\n",
    "Este notebook é responsável por pré-processar os dados realizando as seguintes tarefas:\n",
    "- Definição de tipos\n",
    "- Tratamento de dados ausentes\n",
    "- Normalização e discretização\n",
    "- Limpeza de dados (univariado, bivariado e multivariado)"
   ]
  },
  {
   "cell_type": "markdown",
   "metadata": {},
   "source": [
    "## Definição de tipos\n",
    "Olhando para a tabela que descreve o dataset em '1-initial-analysis.ipynb' e pela análise feita no notebook, os dados foram definidos nos formatos abaixo.\n",
    "\n",
    "### Dados categóricos\n",
    "- type\n",
    "- region\n",
    "- transmission\n",
    "- manufacturer\n",
    "- model\n",
    "- condition\n",
    "- cylinders\n",
    "- fuel\n",
    "- title status\n",
    "- drive\n",
    "- size\n",
    "- paint_color\n",
    "- state\n",
    "\n",
    "### Dados do tipo inteiro\n",
    "- id\n",
    "- price\n",
    "- year\n",
    "\n",
    "### Dados do tipo float\n",
    "- odometer\n",
    "- lat\n",
    "- long\n",
    "\n",
    "### Dados do tipo object\n",
    "- url\n",
    "- description\n",
    "- vin"
   ]
  },
  {
   "cell_type": "code",
   "execution_count": null,
   "metadata": {},
   "outputs": [],
   "source": [
    "def set_df_data_types(df, types_dict):\n",
    "    # TO DO\n",
    "    pass"
   ]
  },
  {
   "cell_type": "code",
   "execution_count": 8,
   "metadata": {},
   "outputs": [],
   "source": [
    "from Utils import *\n",
    "\n",
    "DATASET = \"../datasets/vehicles.csv\"\n",
    "df = pd.read_csv(DATASET)\n",
    "data_types = {'category': ['type', 'region', 'transmission', 'manufacturer', 'model', 'condition', 'cylinders', 'fuel', 'title status', 'drive', 'size', 'paint_color', 'state'],\n",
    "              'int': ['id', 'price', 'year'],\n",
    "              'float': ['odometer', 'lat', 'long'],\n",
    "              'object': ['url', 'description', 'vin']}"
   ]
  },
  {
   "cell_type": "code",
   "execution_count": 6,
   "metadata": {},
   "outputs": [],
   "source": [
    "price_series = df['price'].apply(get_decimal)\n",
    "price_series = price_series[price_series > 0]"
   ]
  },
  {
   "cell_type": "code",
   "execution_count": 7,
   "metadata": {},
   "outputs": [
    {
     "data": {
      "text/plain": [
       "Series([], Name: price, dtype: int64)"
      ]
     },
     "execution_count": 7,
     "metadata": {},
     "output_type": "execute_result"
    }
   ],
   "source": [
    "price_series"
   ]
  },
  {
   "cell_type": "code",
   "execution_count": null,
   "metadata": {},
   "outputs": [],
   "source": []
  }
 ],
 "metadata": {
  "kernelspec": {
   "display_name": "Python 3",
   "language": "python",
   "name": "python3"
  },
  "language_info": {
   "codemirror_mode": {
    "name": "ipython",
    "version": 3
   },
   "file_extension": ".py",
   "mimetype": "text/x-python",
   "name": "python",
   "nbconvert_exporter": "python",
   "pygments_lexer": "ipython3",
   "version": "3.7.7"
  }
 },
 "nbformat": 4,
 "nbformat_minor": 4
}
