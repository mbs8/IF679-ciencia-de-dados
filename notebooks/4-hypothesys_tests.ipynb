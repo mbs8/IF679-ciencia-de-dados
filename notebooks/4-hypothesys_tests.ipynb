{
 "cells": [
  {
   "cell_type": "markdown",
   "metadata": {},
   "source": [
    "# Testes de hipótese\n",
    "Este notebook é responsável por realizar testes de hipóteses sobre o dataset, para comparar valores de categorias."
   ]
  },
  {
   "cell_type": "code",
   "execution_count": 2,
   "metadata": {},
   "outputs": [],
   "source": [
    "from Utils import *\n",
    "from tqdm import tqdm\n",
    "from matplotlib import pyplot as plt\n",
    "import seaborn as sns\n",
    "from scipy import stats"
   ]
  },
  {
   "cell_type": "code",
   "execution_count": 4,
   "metadata": {},
   "outputs": [
    {
     "data": {
      "text/html": [
       "<div>\n",
       "<style scoped>\n",
       "    .dataframe tbody tr th:only-of-type {\n",
       "        vertical-align: middle;\n",
       "    }\n",
       "\n",
       "    .dataframe tbody tr th {\n",
       "        vertical-align: top;\n",
       "    }\n",
       "\n",
       "    .dataframe thead th {\n",
       "        text-align: right;\n",
       "    }\n",
       "</style>\n",
       "<table border=\"1\" class=\"dataframe\">\n",
       "  <thead>\n",
       "    <tr style=\"text-align: right;\">\n",
       "      <th></th>\n",
       "      <th>price</th>\n",
       "      <th>year</th>\n",
       "      <th>odometer</th>\n",
       "      <th>lat</th>\n",
       "      <th>long</th>\n",
       "    </tr>\n",
       "  </thead>\n",
       "  <tbody>\n",
       "    <tr>\n",
       "      <th>count</th>\n",
       "      <td>3.969010e+05</td>\n",
       "      <td>396901.000000</td>\n",
       "      <td>3.969010e+05</td>\n",
       "      <td>396901.000000</td>\n",
       "      <td>396901.000000</td>\n",
       "    </tr>\n",
       "    <tr>\n",
       "      <th>mean</th>\n",
       "      <td>3.432897e+04</td>\n",
       "      <td>2010.258528</td>\n",
       "      <td>9.345143e+04</td>\n",
       "      <td>38.514338</td>\n",
       "      <td>-94.976967</td>\n",
       "    </tr>\n",
       "    <tr>\n",
       "      <th>std</th>\n",
       "      <td>6.346648e+06</td>\n",
       "      <td>8.667275</td>\n",
       "      <td>1.106876e+05</td>\n",
       "      <td>5.920743</td>\n",
       "      <td>18.126894</td>\n",
       "    </tr>\n",
       "    <tr>\n",
       "      <th>min</th>\n",
       "      <td>0.000000e+00</td>\n",
       "      <td>1900.000000</td>\n",
       "      <td>-1.000000e+00</td>\n",
       "      <td>-83.197100</td>\n",
       "      <td>-177.012000</td>\n",
       "    </tr>\n",
       "    <tr>\n",
       "      <th>25%</th>\n",
       "      <td>4.999000e+03</td>\n",
       "      <td>2007.000000</td>\n",
       "      <td>3.994600e+04</td>\n",
       "      <td>34.549400</td>\n",
       "      <td>-111.925000</td>\n",
       "    </tr>\n",
       "    <tr>\n",
       "      <th>50%</th>\n",
       "      <td>1.049500e+04</td>\n",
       "      <td>2012.000000</td>\n",
       "      <td>8.700000e+04</td>\n",
       "      <td>38.996600</td>\n",
       "      <td>-89.448400</td>\n",
       "    </tr>\n",
       "    <tr>\n",
       "      <th>75%</th>\n",
       "      <td>1.799900e+04</td>\n",
       "      <td>2016.000000</td>\n",
       "      <td>1.320000e+05</td>\n",
       "      <td>42.512500</td>\n",
       "      <td>-81.324400</td>\n",
       "    </tr>\n",
       "    <tr>\n",
       "      <th>max</th>\n",
       "      <td>2.490531e+09</td>\n",
       "      <td>2021.000000</td>\n",
       "      <td>1.000000e+07</td>\n",
       "      <td>78.473300</td>\n",
       "      <td>139.388000</td>\n",
       "    </tr>\n",
       "  </tbody>\n",
       "</table>\n",
       "</div>"
      ],
      "text/plain": [
       "              price           year      odometer            lat           long\n",
       "count  3.969010e+05  396901.000000  3.969010e+05  396901.000000  396901.000000\n",
       "mean   3.432897e+04    2010.258528  9.345143e+04      38.514338     -94.976967\n",
       "std    6.346648e+06       8.667275  1.106876e+05       5.920743      18.126894\n",
       "min    0.000000e+00    1900.000000 -1.000000e+00     -83.197100    -177.012000\n",
       "25%    4.999000e+03    2007.000000  3.994600e+04      34.549400    -111.925000\n",
       "50%    1.049500e+04    2012.000000  8.700000e+04      38.996600     -89.448400\n",
       "75%    1.799900e+04    2016.000000  1.320000e+05      42.512500     -81.324400\n",
       "max    2.490531e+09    2021.000000  1.000000e+07      78.473300     139.388000"
      ]
     },
     "execution_count": 4,
     "metadata": {},
     "output_type": "execute_result"
    }
   ],
   "source": [
    "pd.set_option('display.max_colwidth', 100)\n",
    "DATASET = \"../datasets/clean_vehicles_2.csv\"\n",
    "df = pd.read_csv(DATASET)"
   ]
  },
  {
   "cell_type": "code",
   "execution_count": 40,
   "metadata": {},
   "outputs": [
    {
     "data": {
      "text/plain": [
       "<matplotlib.axes._subplots.AxesSubplot at 0x1d3cf1ca820>"
      ]
     },
     "execution_count": 40,
     "metadata": {},
     "output_type": "execute_result"
    },
    {
     "data": {
      "image/png": "[encoded data removed]",
      "text/plain": [
       "<Figure size 432x288 with 1 Axes>"
      ]
     },
     "metadata": {
      "needs_background": "light"
     },
     "output_type": "display_data"
    }
   ],
   "source": [
    "#Verificar se a distribuição do ano de fabricação segue uma distribuição gaussiana.\n",
    "#Por enquanto, verificando apenas com o subconjunto de fabricantes japonesas\n",
    "filter_list = ['toyota','nissan','honda']\n",
    "\n",
    "toyota = df[df['manufacturer'].isin(['toyota'])][['price', 'year','odometer']]\n",
    "nissan = df[df['manufacturer'].isin(['nissan'])][['price', 'year','odometer']]\n",
    "honda = df[df['manufacturer'].isin(['honda'])][['price', 'year','odometer']]\n",
    "df[df['manufacturer'].isin(filter_list)]['year'].hist(bins = 30)"
   ]
  },
  {
   "cell_type": "code",
   "execution_count": 26,
   "metadata": {},
   "outputs": [
    {
     "data": {
      "text/plain": [
       "ShapiroResult(statistic=0.9285131692886353, pvalue=0.0)"
      ]
     },
     "execution_count": 26,
     "metadata": {},
     "output_type": "execute_result"
    }
   ],
   "source": [
    "#Podemos observar que o gráfico não parece uma distribuição normal.\n",
    "#Executando o teste de normalidade Shapiro-Wilk. Hipótese nula: a população é normalmente distribuída.\n",
    "#adotando uma significancia de 5%\n",
    "stats.shapiro(df[df['manufacturer'].isin(filter_list)]['year'])\n",
    "\n",
    "#Logo, como p-value < 0,05, eu rejeito a hipótese nula, concluindo que a distribuição dos anos de fabricação anunciados não é normal."
   ]
  },
  {
   "cell_type": "code",
   "execution_count": 62,
   "metadata": {},
   "outputs": [
    {
     "data": {
      "text/plain": [
       "<matplotlib.axes._subplots.AxesSubplot at 0x1d3d591c310>"
      ]
     },
     "execution_count": 62,
     "metadata": {},
     "output_type": "execute_result"
    },
    {
     "data": {
      "image/png": "[encoded data removed]",
      "text/plain": [
       "<Figure size 432x288 with 2 Axes>"
      ]
     },
     "metadata": {
      "needs_background": "light"
     },
     "output_type": "display_data"
    }
   ],
   "source": [
    "fig, axs = plt.subplots(1,2)\n",
    "fig.subplots_adjust(right=2)\n",
    "toyota['year'].plot.hist(ax=axs[0], bins = 30)\n",
    "toyota['year'].plot(kind='box',ax=axs[1])"
   ]
  },
  {
   "cell_type": "code",
   "execution_count": 63,
   "metadata": {},
   "outputs": [
    {
     "data": {
      "text/plain": [
       "<matplotlib.axes._subplots.AxesSubplot at 0x1d3d605d550>"
      ]
     },
     "execution_count": 63,
     "metadata": {},
     "output_type": "execute_result"
    },
    {
     "data": {
      "image/png": "[encoded data removed]",
      "text/plain": [
       "<Figure size 432x288 with 2 Axes>"
      ]
     },
     "metadata": {
      "needs_background": "light"
     },
     "output_type": "display_data"
    }
   ],
   "source": [
    "fig, axs = plt.subplots(1,2)\n",
    "fig.subplots_adjust(right=2)\n",
    "nissan['year'].plot.hist(ax=axs[0], bins = 30)\n",
    "nissan['year'].plot(kind='box',ax=axs[1])"
   ]
  },
  {
   "cell_type": "code",
   "execution_count": 64,
   "metadata": {},
   "outputs": [
    {
     "data": {
      "text/plain": [
       "<matplotlib.axes._subplots.AxesSubplot at 0x1d3d66490a0>"
      ]
     },
     "execution_count": 64,
     "metadata": {},
     "output_type": "execute_result"
    },
    {
     "data": {
      "image/png": "[encoded data removed]",
      "text/plain": [
       "<Figure size 432x288 with 2 Axes>"
      ]
     },
     "metadata": {
      "needs_background": "light"
     },
     "output_type": "display_data"
    }
   ],
   "source": [
    "fig, axs = plt.subplots(1,2)\n",
    "fig.subplots_adjust(right=2)\n",
    "honda['year'].plot.hist(ax=axs[0], bins = 30)\n",
    "honda['year'].plot(kind='box',ax=axs[1])"
   ]
  },
  {
   "cell_type": "code",
   "execution_count": 74,
   "metadata": {},
   "outputs": [
    {
     "name": "stdout",
     "output_type": "stream",
     "text": [
      "As amostras são estatisticamente iguais\n"
     ]
    }
   ],
   "source": [
    "#Queremos perceber se há relação entre a quantidade de anuncios de  Hondas e Toyotas de mesmo ano de fabricação\n",
    "#Como estas grandezas não são relacionadas (Pairadas), usaremos teste de Mann Whitneyu\n",
    "#A Hipótese nula é que as distrubuições são estatisticamente iguais.\n",
    "#Considerando uma significância de 5% (O.05)\n",
    "\n",
    "result, pvalue = stats.mannwhitneyu(honda['year'],toyota['year'])\n",
    "\n",
    "#Caso pvalue > 0.05 então o teste falho em rejeitar a hipotese nula\n",
    "#Caso pvalue < 0.05 a hipotese nula será rejeitada.\n",
    "\n",
    "if(pvalue > 0.05):\n",
    "    print(\"As amostras são estatisticamente iguais\")\n",
    "else:\n",
    "    print(\"As amostras não são estatisticamente iguais\")\n"
   ]
  },
  {
   "cell_type": "code",
   "execution_count": 76,
   "metadata": {},
   "outputs": [
    {
     "name": "stdout",
     "output_type": "stream",
     "text": [
      "As amostras não são estatisticamente iguais\n"
     ]
    }
   ],
   "source": [
    "#Agora, queremos perceber se há relação entre a quantidade de anuncios de  Nissan e Toyotas de mesmo ano de fabricação\n",
    "#A Hipótese nula é que as distrubuições são estatisticamente iguais.\n",
    "#Considerando uma significância de 5% (O.05)\n",
    "\n",
    "result, pvalue = stats.mannwhitneyu(nissan['year'],toyota['year'])\n",
    "\n",
    "if(pvalue > 0.05):\n",
    "    print(\"As amostras são estatisticamente iguais\")\n",
    "else:\n",
    "    print(\"As amostras não são estatisticamente iguais\")"
   ]
  }
 ],
 "metadata": {
  "kernelspec": {
   "display_name": "Python 3",
   "language": "python",
   "name": "python3"
  },
  "language_info": {
   "codemirror_mode": {
    "name": "ipython",
    "version": 3
   },
   "file_extension": ".py",
   "mimetype": "text/x-python",
   "name": "python",
   "nbconvert_exporter": "python",
   "pygments_lexer": "ipython3",
   "version": "3.8.3"
  }
 },
 "nbformat": 4,
 "nbformat_minor": 4
}
